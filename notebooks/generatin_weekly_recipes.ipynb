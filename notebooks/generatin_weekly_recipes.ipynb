{
 "cells": [
  {
   "cell_type": "code",
   "execution_count": 11,
   "metadata": {},
   "outputs": [],
   "source": [
    "import pandas as pd"
   ]
  },
  {
   "cell_type": "code",
   "execution_count": 12,
   "metadata": {},
   "outputs": [],
   "source": [
    "#Load file with all the recipes\n",
    "df = pd.read_excel(\"../data/raw/Recipes.xlsx\")"
   ]
  },
  {
   "cell_type": "code",
   "execution_count": 13,
   "metadata": {},
   "outputs": [
    {
     "data": {
      "text/html": [
       "<div>\n",
       "<style scoped>\n",
       "    .dataframe tbody tr th:only-of-type {\n",
       "        vertical-align: middle;\n",
       "    }\n",
       "\n",
       "    .dataframe tbody tr th {\n",
       "        vertical-align: top;\n",
       "    }\n",
       "\n",
       "    .dataframe thead th {\n",
       "        text-align: right;\n",
       "    }\n",
       "</style>\n",
       "<table border=\"1\" class=\"dataframe\">\n",
       "  <thead>\n",
       "    <tr style=\"text-align: right;\">\n",
       "      <th></th>\n",
       "      <th>Nombre</th>\n",
       "      <th>Tipo</th>\n",
       "      <th>Link</th>\n",
       "    </tr>\n",
       "  </thead>\n",
       "  <tbody>\n",
       "    <tr>\n",
       "      <th>0</th>\n",
       "      <td>Vegetable Ramen with Mushrooms and Bok Choy</td>\n",
       "      <td>Veg</td>\n",
       "      <td>https://www.goodhousekeeping.com/food-recipes/...</td>\n",
       "    </tr>\n",
       "    <tr>\n",
       "      <th>1</th>\n",
       "      <td>Grilled Steak Tortilla Salad</td>\n",
       "      <td>Meat</td>\n",
       "      <td>https://www.goodhousekeeping.com/food-recipes/...</td>\n",
       "    </tr>\n",
       "    <tr>\n",
       "      <th>2</th>\n",
       "      <td>Cauliflower Pizza</td>\n",
       "      <td>Veg</td>\n",
       "      <td>https://www.goodhousekeeping.com/food-recipes/...</td>\n",
       "    </tr>\n",
       "    <tr>\n",
       "      <th>3</th>\n",
       "      <td>Honey-Ginger Cedar Plank Salmon</td>\n",
       "      <td>Fish</td>\n",
       "      <td>https://www.goodhousekeeping.com/food-recipes/...</td>\n",
       "    </tr>\n",
       "    <tr>\n",
       "      <th>4</th>\n",
       "      <td>Traditional Chicken Curry</td>\n",
       "      <td>Meat</td>\n",
       "      <td>https://www.goodhousekeeping.com/food-recipes/...</td>\n",
       "    </tr>\n",
       "  </tbody>\n",
       "</table>\n",
       "</div>"
      ],
      "text/plain": [
       "                                        Nombre  Tipo  \\\n",
       "0  Vegetable Ramen with Mushrooms and Bok Choy   Veg   \n",
       "1                 Grilled Steak Tortilla Salad  Meat   \n",
       "2                            Cauliflower Pizza   Veg   \n",
       "3              Honey-Ginger Cedar Plank Salmon  Fish   \n",
       "4                    Traditional Chicken Curry  Meat   \n",
       "\n",
       "                                                Link  \n",
       "0  https://www.goodhousekeeping.com/food-recipes/...  \n",
       "1  https://www.goodhousekeeping.com/food-recipes/...  \n",
       "2  https://www.goodhousekeeping.com/food-recipes/...  \n",
       "3  https://www.goodhousekeeping.com/food-recipes/...  \n",
       "4  https://www.goodhousekeeping.com/food-recipes/...  "
      ]
     },
     "execution_count": 13,
     "metadata": {},
     "output_type": "execute_result"
    }
   ],
   "source": [
    "df.head()"
   ]
  },
  {
   "cell_type": "code",
   "execution_count": 14,
   "metadata": {},
   "outputs": [],
   "source": [
    "#Removing spaces\n",
    "df.Tipo = df.Tipo.str.strip()"
   ]
  },
  {
   "cell_type": "code",
   "execution_count": 15,
   "metadata": {},
   "outputs": [],
   "source": [
    "#Loading previous file\n",
    "df_previous_recipes = pd.read_csv(\"../data/processed/previous_recipes.xlsx\")\n",
    "list_columns = list(df_previous_recipes.columns)\n",
    "for column in list_columns:\n",
    "    if column == \"Unnamed: 0\":\n",
    "        df_previous_recipes = df_previous_recipes.drop(\"Unnamed: 0\",axis=1)"
   ]
  },
  {
   "cell_type": "code",
   "execution_count": 16,
   "metadata": {},
   "outputs": [],
   "source": [
    "#Removing previous recipes\n",
    "df = df[~df.Nombre.isin(df_previous_recipes.Nombre.unique())]"
   ]
  },
  {
   "cell_type": "code",
   "execution_count": 17,
   "metadata": {},
   "outputs": [],
   "source": [
    "#Selecting random recipes\n",
    "df_veg = df[df.Tipo.str.lower() == \"veg\"].sample(n = 2)\n",
    "df_meat = df[df.Tipo.str.lower()== \"meat\"].sample(n = 1)\n",
    "df_fish = df[df.Tipo.str.lower()== \"fish\"].sample(n = 0)\n",
    "df_pasta = df[df.Tipo.str.lower() == \"pasta\"].sample(n = 1)"
   ]
  },
  {
   "cell_type": "code",
   "execution_count": 18,
   "metadata": {},
   "outputs": [],
   "source": [
    "#putting together recipes\n",
    "df_final = pd.concat([pd.concat([df_veg, df_meat]), pd.concat([df_fish, df_pasta])]).reset_index(drop=True)"
   ]
  },
  {
   "cell_type": "code",
   "execution_count": 19,
   "metadata": {},
   "outputs": [
    {
     "data": {
      "text/html": [
       "<div>\n",
       "<style scoped>\n",
       "    .dataframe tbody tr th:only-of-type {\n",
       "        vertical-align: middle;\n",
       "    }\n",
       "\n",
       "    .dataframe tbody tr th {\n",
       "        vertical-align: top;\n",
       "    }\n",
       "\n",
       "    .dataframe thead th {\n",
       "        text-align: right;\n",
       "    }\n",
       "</style>\n",
       "<table border=\"1\" class=\"dataframe\">\n",
       "  <thead>\n",
       "    <tr style=\"text-align: right;\">\n",
       "      <th></th>\n",
       "      <th>Nombre</th>\n",
       "      <th>Tipo</th>\n",
       "      <th>Link</th>\n",
       "    </tr>\n",
       "  </thead>\n",
       "  <tbody>\n",
       "    <tr>\n",
       "      <th>0</th>\n",
       "      <td>Risotto zafferano</td>\n",
       "      <td>Veg</td>\n",
       "      <td>Saffron risotto recipe | BBC Good Food</td>\n",
       "    </tr>\n",
       "    <tr>\n",
       "      <th>1</th>\n",
       "      <td>Gnocchi al pesto</td>\n",
       "      <td>Veg</td>\n",
       "      <td>https://littlesunnykitchen.com/creamy-pesto-gn...</td>\n",
       "    </tr>\n",
       "    <tr>\n",
       "      <th>2</th>\n",
       "      <td>Taco Pie</td>\n",
       "      <td>Meat</td>\n",
       "      <td>Easy Taco Pie Recipe | Life Tastes Good (ourli...</td>\n",
       "    </tr>\n",
       "    <tr>\n",
       "      <th>3</th>\n",
       "      <td>Wholewheat spaghetti &amp; avocado sauce</td>\n",
       "      <td>Pasta</td>\n",
       "      <td>https://www.bbcgoodfood.com/recipes/wholewheat...</td>\n",
       "    </tr>\n",
       "  </tbody>\n",
       "</table>\n",
       "</div>"
      ],
      "text/plain": [
       "                                 Nombre   Tipo  \\\n",
       "0                    Risotto zafferano     Veg   \n",
       "1                      Gnocchi al pesto    Veg   \n",
       "2                              Taco Pie   Meat   \n",
       "3  Wholewheat spaghetti & avocado sauce  Pasta   \n",
       "\n",
       "                                                Link  \n",
       "0             Saffron risotto recipe | BBC Good Food  \n",
       "1  https://littlesunnykitchen.com/creamy-pesto-gn...  \n",
       "2  Easy Taco Pie Recipe | Life Tastes Good (ourli...  \n",
       "3  https://www.bbcgoodfood.com/recipes/wholewheat...  "
      ]
     },
     "execution_count": 19,
     "metadata": {},
     "output_type": "execute_result"
    }
   ],
   "source": [
    "df_final"
   ]
  },
  {
   "cell_type": "code",
   "execution_count": 20,
   "metadata": {},
   "outputs": [],
   "source": [
    "#Loading data from recipes\n",
    "pd.concat([df_previous_recipes,df_final]).reset_index(drop=True).to_csv(\"../data/processed/previous_recipes.xlsx\")"
   ]
  },
  {
   "cell_type": "markdown",
   "metadata": {},
   "source": [
    "# Sending EMAIL"
   ]
  },
  {
   "cell_type": "code",
   "execution_count": 21,
   "metadata": {},
   "outputs": [],
   "source": [
    "#Creating subject of mail\n",
    "from datetime import datetime\n",
    "year, week_num, day_of_week = datetime.today().isocalendar()\n",
    "subject = \"Menu Week \" + str(week_num) +\" \" + str(year)"
   ]
  },
  {
   "cell_type": "code",
   "execution_count": 22,
   "metadata": {},
   "outputs": [
    {
     "data": {
      "text/html": [
       "<div>\n",
       "<style scoped>\n",
       "    .dataframe tbody tr th:only-of-type {\n",
       "        vertical-align: middle;\n",
       "    }\n",
       "\n",
       "    .dataframe tbody tr th {\n",
       "        vertical-align: top;\n",
       "    }\n",
       "\n",
       "    .dataframe thead th {\n",
       "        text-align: right;\n",
       "    }\n",
       "</style>\n",
       "<table border=\"1\" class=\"dataframe\">\n",
       "  <thead>\n",
       "    <tr style=\"text-align: right;\">\n",
       "      <th></th>\n",
       "      <th>Nombre</th>\n",
       "      <th>Tipo</th>\n",
       "      <th>Link</th>\n",
       "    </tr>\n",
       "  </thead>\n",
       "  <tbody>\n",
       "    <tr>\n",
       "      <th>0</th>\n",
       "      <td>Risotto zafferano</td>\n",
       "      <td>Veg</td>\n",
       "      <td>Saffron risotto recipe | BBC Good Food</td>\n",
       "    </tr>\n",
       "    <tr>\n",
       "      <th>1</th>\n",
       "      <td>Gnocchi al pesto</td>\n",
       "      <td>Veg</td>\n",
       "      <td>https://littlesunnykitchen.com/creamy-pesto-gn...</td>\n",
       "    </tr>\n",
       "    <tr>\n",
       "      <th>2</th>\n",
       "      <td>Taco Pie</td>\n",
       "      <td>Meat</td>\n",
       "      <td>Easy Taco Pie Recipe | Life Tastes Good (ourli...</td>\n",
       "    </tr>\n",
       "    <tr>\n",
       "      <th>3</th>\n",
       "      <td>Wholewheat spaghetti &amp; avocado sauce</td>\n",
       "      <td>Pasta</td>\n",
       "      <td>https://www.bbcgoodfood.com/recipes/wholewheat...</td>\n",
       "    </tr>\n",
       "  </tbody>\n",
       "</table>\n",
       "</div>"
      ],
      "text/plain": [
       "                                 Nombre   Tipo  \\\n",
       "0                    Risotto zafferano     Veg   \n",
       "1                      Gnocchi al pesto    Veg   \n",
       "2                              Taco Pie   Meat   \n",
       "3  Wholewheat spaghetti & avocado sauce  Pasta   \n",
       "\n",
       "                                                Link  \n",
       "0             Saffron risotto recipe | BBC Good Food  \n",
       "1  https://littlesunnykitchen.com/creamy-pesto-gn...  \n",
       "2  Easy Taco Pie Recipe | Life Tastes Good (ourli...  \n",
       "3  https://www.bbcgoodfood.com/recipes/wholewheat...  "
      ]
     },
     "execution_count": 22,
     "metadata": {},
     "output_type": "execute_result"
    }
   ],
   "source": [
    "df_final"
   ]
  },
  {
   "cell_type": "code",
   "execution_count": 23,
   "metadata": {},
   "outputs": [
    {
     "name": "stdout",
     "output_type": "stream",
     "text": [
      "Risotto zafferano : Saffron risotto recipe | BBC Good Food\n",
      "Gnocchi al pesto: https://littlesunnykitchen.com/creamy-pesto-gnocchi/\n",
      "Taco Pie: Easy Taco Pie Recipe | Life Tastes Good (ourlifetastesgood.com)\n",
      "Wholewheat spaghetti & avocado sauce: https://www.bbcgoodfood.com/recipes/wholewheat-spaghetti-avocado-sauce\n",
      "\n"
     ]
    }
   ],
   "source": [
    "body = \"\"\n",
    "for i in range(0,df_final.shape[0]):\n",
    "    body = body + df_final.loc[i, 'Nombre'] + \": \" + df_final.loc[i, 'Link'] + \"\\n\"\n",
    "print(body)"
   ]
  },
  {
   "cell_type": "code",
   "execution_count": 24,
   "metadata": {},
   "outputs": [
    {
     "name": "stdout",
     "output_type": "stream",
     "text": [
      "Email sent!\n"
     ]
    }
   ],
   "source": [
    "import smtplib\n",
    "\n",
    "gmail_user = 'sabaku88@gmail.com'\n",
    "gmail_password = 'ucalhamhnnyyhmqz'\n",
    "\n",
    "sent_from = gmail_user\n",
    "to = ['sabaku88@gmail.com', 'chiara.tronconi.91@gmail.com']\n",
    "#subject = 'OMG Super Important Message'\n",
    "#body = str(df_final.iloc[0].Nombre) + \": \" + str(df_final.iloc[0].Link)\n",
    "\n",
    "email_text = \"\"\"\\\n",
    "From: %s\n",
    "To: %s\n",
    "Subject: %s\n",
    "\n",
    "%s\n",
    "\"\"\" % (sent_from, \", \".join(to), subject, body)\n",
    "\n",
    "try:\n",
    "    server = smtplib.SMTP_SSL('smtp.gmail.com', 465)\n",
    "    server.ehlo()\n",
    "    server.login(gmail_user, gmail_password)\n",
    "    server.sendmail(sent_from, to, email_text)\n",
    "    server.close()\n",
    "\n",
    "    print('Email sent!')\n",
    "except:\n",
    "    print('Something went wrong...')"
   ]
  }
 ],
 "metadata": {
  "kernelspec": {
   "display_name": "Python 3.9.12 ('data_science')",
   "language": "python",
   "name": "python3"
  },
  "language_info": {
   "codemirror_mode": {
    "name": "ipython",
    "version": 3
   },
   "file_extension": ".py",
   "mimetype": "text/x-python",
   "name": "python",
   "nbconvert_exporter": "python",
   "pygments_lexer": "ipython3",
   "version": "3.9.12"
  },
  "orig_nbformat": 4,
  "vscode": {
   "interpreter": {
    "hash": "df5110a174fb920e8a1a164036d27db828b7b074fe5c7312a2fadadaa5d71696"
   }
  }
 },
 "nbformat": 4,
 "nbformat_minor": 2
}
