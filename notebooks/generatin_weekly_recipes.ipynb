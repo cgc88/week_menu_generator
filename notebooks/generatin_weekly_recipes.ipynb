{
 "cells": [
  {
   "cell_type": "code",
   "execution_count": 51,
   "metadata": {},
   "outputs": [],
   "source": [
    "import pandas as pd"
   ]
  },
  {
   "cell_type": "code",
   "execution_count": 52,
   "metadata": {},
   "outputs": [],
   "source": [
    "#Load file with all the recipes\n",
    "df = pd.read_excel(\"../data/raw/Recipes.xlsx\")"
   ]
  },
  {
   "cell_type": "code",
   "execution_count": 53,
   "metadata": {},
   "outputs": [
    {
     "data": {
      "text/html": [
       "<div>\n",
       "<style scoped>\n",
       "    .dataframe tbody tr th:only-of-type {\n",
       "        vertical-align: middle;\n",
       "    }\n",
       "\n",
       "    .dataframe tbody tr th {\n",
       "        vertical-align: top;\n",
       "    }\n",
       "\n",
       "    .dataframe thead th {\n",
       "        text-align: right;\n",
       "    }\n",
       "</style>\n",
       "<table border=\"1\" class=\"dataframe\">\n",
       "  <thead>\n",
       "    <tr style=\"text-align: right;\">\n",
       "      <th></th>\n",
       "      <th>Nombre</th>\n",
       "      <th>Tipo</th>\n",
       "      <th>Link</th>\n",
       "    </tr>\n",
       "  </thead>\n",
       "  <tbody>\n",
       "    <tr>\n",
       "      <th>0</th>\n",
       "      <td>Vegetable Ramen with Mushrooms and Bok Choy</td>\n",
       "      <td>Veg</td>\n",
       "      <td>https://www.goodhousekeeping.com/food-recipes/...</td>\n",
       "    </tr>\n",
       "    <tr>\n",
       "      <th>1</th>\n",
       "      <td>Grilled Steak Tortilla Salad</td>\n",
       "      <td>Meat</td>\n",
       "      <td>https://www.goodhousekeeping.com/food-recipes/...</td>\n",
       "    </tr>\n",
       "    <tr>\n",
       "      <th>2</th>\n",
       "      <td>Cauliflower Pizza</td>\n",
       "      <td>Veg</td>\n",
       "      <td>https://www.goodhousekeeping.com/food-recipes/...</td>\n",
       "    </tr>\n",
       "    <tr>\n",
       "      <th>3</th>\n",
       "      <td>Honey-Ginger Cedar Plank Salmon</td>\n",
       "      <td>Fish</td>\n",
       "      <td>https://www.goodhousekeeping.com/food-recipes/...</td>\n",
       "    </tr>\n",
       "    <tr>\n",
       "      <th>4</th>\n",
       "      <td>Traditional Chicken Curry</td>\n",
       "      <td>Meat</td>\n",
       "      <td>https://www.goodhousekeeping.com/food-recipes/...</td>\n",
       "    </tr>\n",
       "  </tbody>\n",
       "</table>\n",
       "</div>"
      ],
      "text/plain": [
       "                                        Nombre  Tipo  \\\n",
       "0  Vegetable Ramen with Mushrooms and Bok Choy   Veg   \n",
       "1                 Grilled Steak Tortilla Salad  Meat   \n",
       "2                            Cauliflower Pizza   Veg   \n",
       "3              Honey-Ginger Cedar Plank Salmon  Fish   \n",
       "4                    Traditional Chicken Curry  Meat   \n",
       "\n",
       "                                                Link  \n",
       "0  https://www.goodhousekeeping.com/food-recipes/...  \n",
       "1  https://www.goodhousekeeping.com/food-recipes/...  \n",
       "2  https://www.goodhousekeeping.com/food-recipes/...  \n",
       "3  https://www.goodhousekeeping.com/food-recipes/...  \n",
       "4  https://www.goodhousekeeping.com/food-recipes/...  "
      ]
     },
     "execution_count": 53,
     "metadata": {},
     "output_type": "execute_result"
    }
   ],
   "source": [
    "df.head()"
   ]
  },
  {
   "cell_type": "code",
   "execution_count": 54,
   "metadata": {},
   "outputs": [],
   "source": [
    "#Loading previous file\n",
    "df_previous_recipes = pd.read_csv(\"../data/processed/previous_recipes.xlsx\")\n",
    "list_columns = list(df_previous_recipes.columns)\n",
    "for column in list_columns:\n",
    "    if column == \"Unnamed: 0\":\n",
    "        df_previous_recipes = df_previous_recipes.drop(\"Unnamed: 0\",axis=1)"
   ]
  },
  {
   "cell_type": "code",
   "execution_count": 55,
   "metadata": {},
   "outputs": [],
   "source": [
    "#Removing previous recipes\n",
    "df = df[~df.Nombre.isin(df_previous_recipes.Nombre.unique())]"
   ]
  },
  {
   "cell_type": "code",
   "execution_count": 56,
   "metadata": {},
   "outputs": [],
   "source": [
    "#Selecting random recipes\n",
    "df_veg = df[df.Tipo == \"Veg\"].sample(n = 2)\n",
    "df_meat = df[df.Tipo == \"Meat\"].sample(n = 1)\n",
    "df_fish = df[df.Tipo == \"Fish\"].sample(n = 1)\n",
    "df_pasta = df[df.Tipo == \"Pasta\"].sample(n = 1)"
   ]
  },
  {
   "cell_type": "code",
   "execution_count": 57,
   "metadata": {},
   "outputs": [],
   "source": [
    "#putting together recipes\n",
    "df_final = pd.concat([pd.concat([df_veg, df_meat]), pd.concat([df_fish, df_pasta])]).reset_index(drop=True)"
   ]
  },
  {
   "cell_type": "code",
   "execution_count": 58,
   "metadata": {},
   "outputs": [
    {
     "data": {
      "text/html": [
       "<div>\n",
       "<style scoped>\n",
       "    .dataframe tbody tr th:only-of-type {\n",
       "        vertical-align: middle;\n",
       "    }\n",
       "\n",
       "    .dataframe tbody tr th {\n",
       "        vertical-align: top;\n",
       "    }\n",
       "\n",
       "    .dataframe thead th {\n",
       "        text-align: right;\n",
       "    }\n",
       "</style>\n",
       "<table border=\"1\" class=\"dataframe\">\n",
       "  <thead>\n",
       "    <tr style=\"text-align: right;\">\n",
       "      <th></th>\n",
       "      <th>Nombre</th>\n",
       "      <th>Tipo</th>\n",
       "      <th>Link</th>\n",
       "    </tr>\n",
       "  </thead>\n",
       "  <tbody>\n",
       "    <tr>\n",
       "      <th>0</th>\n",
       "      <td>Khao pad Thai</td>\n",
       "      <td>Veg</td>\n",
       "      <td>https://www.food.com/recipe/kao-pad-thai-style...</td>\n",
       "    </tr>\n",
       "    <tr>\n",
       "      <th>1</th>\n",
       "      <td>Lentils Dahl</td>\n",
       "      <td>Veg</td>\n",
       "      <td>https://nourishplate.com/lentil-dahl-recipe/</td>\n",
       "    </tr>\n",
       "    <tr>\n",
       "      <th>2</th>\n",
       "      <td>Pomegranate-Honey Glazed Chicken and Squash</td>\n",
       "      <td>Meat</td>\n",
       "      <td>https://www.goodhousekeeping.com/food-recipes/...</td>\n",
       "    </tr>\n",
       "    <tr>\n",
       "      <th>3</th>\n",
       "      <td>Shrimp Packets with Kale Couscous</td>\n",
       "      <td>Fish</td>\n",
       "      <td>https://www.goodhousekeeping.com/food-recipes/...</td>\n",
       "    </tr>\n",
       "    <tr>\n",
       "      <th>4</th>\n",
       "      <td>Orecchiette with cavolo nero, anchovies &amp; pang...</td>\n",
       "      <td>Pasta</td>\n",
       "      <td>https://www.bbcgoodfood.com/recipes/orecchiett...</td>\n",
       "    </tr>\n",
       "  </tbody>\n",
       "</table>\n",
       "</div>"
      ],
      "text/plain": [
       "                                              Nombre   Tipo  \\\n",
       "0                                     Khao pad Thai     Veg   \n",
       "1                                      Lentils Dahl     Veg   \n",
       "2        Pomegranate-Honey Glazed Chicken and Squash   Meat   \n",
       "3                  Shrimp Packets with Kale Couscous   Fish   \n",
       "4  Orecchiette with cavolo nero, anchovies & pang...  Pasta   \n",
       "\n",
       "                                                Link  \n",
       "0  https://www.food.com/recipe/kao-pad-thai-style...  \n",
       "1       https://nourishplate.com/lentil-dahl-recipe/  \n",
       "2  https://www.goodhousekeeping.com/food-recipes/...  \n",
       "3  https://www.goodhousekeeping.com/food-recipes/...  \n",
       "4  https://www.bbcgoodfood.com/recipes/orecchiett...  "
      ]
     },
     "execution_count": 58,
     "metadata": {},
     "output_type": "execute_result"
    }
   ],
   "source": [
    "df_final"
   ]
  },
  {
   "cell_type": "code",
   "execution_count": 59,
   "metadata": {},
   "outputs": [],
   "source": [
    "#Loading data from recipes\n",
    "pd.concat([df_previous_recipes,df_final]).reset_index(drop=True).to_csv(\"../data/processed/previous_recipes.xlsx\")"
   ]
  },
  {
   "cell_type": "markdown",
   "metadata": {},
   "source": [
    "# Sending EMAIL"
   ]
  },
  {
   "cell_type": "code",
   "execution_count": 60,
   "metadata": {},
   "outputs": [],
   "source": [
    "#Creating subject of mail\n",
    "from datetime import datetime\n",
    "year, week_num, day_of_week = datetime.today().isocalendar()\n",
    "subject = \"Menu Week \" + str(week_num) +\" \" + str(year)"
   ]
  },
  {
   "cell_type": "code",
   "execution_count": 61,
   "metadata": {},
   "outputs": [
    {
     "data": {
      "text/html": [
       "<div>\n",
       "<style scoped>\n",
       "    .dataframe tbody tr th:only-of-type {\n",
       "        vertical-align: middle;\n",
       "    }\n",
       "\n",
       "    .dataframe tbody tr th {\n",
       "        vertical-align: top;\n",
       "    }\n",
       "\n",
       "    .dataframe thead th {\n",
       "        text-align: right;\n",
       "    }\n",
       "</style>\n",
       "<table border=\"1\" class=\"dataframe\">\n",
       "  <thead>\n",
       "    <tr style=\"text-align: right;\">\n",
       "      <th></th>\n",
       "      <th>Nombre</th>\n",
       "      <th>Tipo</th>\n",
       "      <th>Link</th>\n",
       "    </tr>\n",
       "  </thead>\n",
       "  <tbody>\n",
       "    <tr>\n",
       "      <th>0</th>\n",
       "      <td>Khao pad Thai</td>\n",
       "      <td>Veg</td>\n",
       "      <td>https://www.food.com/recipe/kao-pad-thai-style...</td>\n",
       "    </tr>\n",
       "    <tr>\n",
       "      <th>1</th>\n",
       "      <td>Lentils Dahl</td>\n",
       "      <td>Veg</td>\n",
       "      <td>https://nourishplate.com/lentil-dahl-recipe/</td>\n",
       "    </tr>\n",
       "    <tr>\n",
       "      <th>2</th>\n",
       "      <td>Pomegranate-Honey Glazed Chicken and Squash</td>\n",
       "      <td>Meat</td>\n",
       "      <td>https://www.goodhousekeeping.com/food-recipes/...</td>\n",
       "    </tr>\n",
       "    <tr>\n",
       "      <th>3</th>\n",
       "      <td>Shrimp Packets with Kale Couscous</td>\n",
       "      <td>Fish</td>\n",
       "      <td>https://www.goodhousekeeping.com/food-recipes/...</td>\n",
       "    </tr>\n",
       "    <tr>\n",
       "      <th>4</th>\n",
       "      <td>Orecchiette with cavolo nero, anchovies &amp; pang...</td>\n",
       "      <td>Pasta</td>\n",
       "      <td>https://www.bbcgoodfood.com/recipes/orecchiett...</td>\n",
       "    </tr>\n",
       "  </tbody>\n",
       "</table>\n",
       "</div>"
      ],
      "text/plain": [
       "                                              Nombre   Tipo  \\\n",
       "0                                     Khao pad Thai     Veg   \n",
       "1                                      Lentils Dahl     Veg   \n",
       "2        Pomegranate-Honey Glazed Chicken and Squash   Meat   \n",
       "3                  Shrimp Packets with Kale Couscous   Fish   \n",
       "4  Orecchiette with cavolo nero, anchovies & pang...  Pasta   \n",
       "\n",
       "                                                Link  \n",
       "0  https://www.food.com/recipe/kao-pad-thai-style...  \n",
       "1       https://nourishplate.com/lentil-dahl-recipe/  \n",
       "2  https://www.goodhousekeeping.com/food-recipes/...  \n",
       "3  https://www.goodhousekeeping.com/food-recipes/...  \n",
       "4  https://www.bbcgoodfood.com/recipes/orecchiett...  "
      ]
     },
     "execution_count": 61,
     "metadata": {},
     "output_type": "execute_result"
    }
   ],
   "source": [
    "df_final"
   ]
  },
  {
   "cell_type": "code",
   "execution_count": 62,
   "metadata": {},
   "outputs": [
    {
     "name": "stdout",
     "output_type": "stream",
     "text": [
      "Khao pad Thai : https://www.food.com/recipe/kao-pad-thai-style-fried-rice-135330\n",
      "Lentils Dahl : https://nourishplate.com/lentil-dahl-recipe/\n",
      "Pomegranate-Honey Glazed Chicken and Squash: https://www.goodhousekeeping.com/food-recipes/easy/a46930/pomegranate-honey-glazed-chicken-and-squash-recipe/\n",
      "Shrimp Packets with Kale Couscous: https://www.goodhousekeeping.com/food-recipes/easy/a21602660/shrimp-packets-with-kale-couscous-recipe/\n",
      "Orecchiette with cavolo nero, anchovies & pangrattato: https://www.bbcgoodfood.com/recipes/orecchiette-cavolo-nero-anchovies-pangrattato\n",
      "\n"
     ]
    }
   ],
   "source": [
    "body = \"\"\n",
    "for i in range(0,df_final.shape[0]):\n",
    "    body = body + df_final.loc[i, 'Nombre'] + \": \" + df_final.loc[i, 'Link'] + \"\\n\"\n",
    "print(body)"
   ]
  },
  {
   "cell_type": "code",
   "execution_count": 63,
   "metadata": {},
   "outputs": [
    {
     "name": "stdout",
     "output_type": "stream",
     "text": [
      "Email sent!\n"
     ]
    }
   ],
   "source": [
    "import smtplib\n",
    "\n",
    "gmail_user = 'sabaku88@gmail.com'\n",
    "gmail_password = 'ucalhamhnnyyhmqz'\n",
    "\n",
    "sent_from = gmail_user\n",
    "to = ['sabaku88@gmail.com', 'chiara.tronconi.91@gmail.com']\n",
    "#subject = 'OMG Super Important Message'\n",
    "#body = str(df_final.iloc[0].Nombre) + \": \" + str(df_final.iloc[0].Link)\n",
    "\n",
    "email_text = \"\"\"\\\n",
    "From: %s\n",
    "To: %s\n",
    "Subject: %s\n",
    "\n",
    "%s\n",
    "\"\"\" % (sent_from, \", \".join(to), subject, body)\n",
    "\n",
    "try:\n",
    "    server = smtplib.SMTP_SSL('smtp.gmail.com', 465)\n",
    "    server.ehlo()\n",
    "    server.login(gmail_user, gmail_password)\n",
    "    server.sendmail(sent_from, to, email_text)\n",
    "    server.close()\n",
    "\n",
    "    print('Email sent!')\n",
    "except:\n",
    "    print('Something went wrong...')"
   ]
  },
  {
   "cell_type": "code",
   "execution_count": 10,
   "metadata": {},
   "outputs": [],
   "source": [
    "from google_drive_downloader import GoogleDriveDownloader as gdd\n",
    "\n",
    "gdd.download_file_from_google_drive(file_id='1FosaeraWyZVC6VBddXMYXmlpchahQPmDcHFHoi2KJVI',\n",
    "                                    dest_path='../data/raw/recipes.xlsx',\n",
    "                                    unzip=True)"
   ]
  },
  {
   "cell_type": "code",
   "execution_count": 16,
   "metadata": {},
   "outputs": [
    {
     "name": "stderr",
     "output_type": "stream",
     "text": [
      "Downloading...\n",
      "From: https://docs.google.com/spreadsheets/d/1FosaeraWyZVC6VBddXMYXmlpchahQPmDcHFHoi2KJVI\n",
      "To: /home/carlos/DataScience/week_menu_generator/notebooks/recipes.xlsx\n",
      "908kB [00:00, 11.7MB/s]\n"
     ]
    },
    {
     "data": {
      "text/plain": [
       "'recipes.xlsx'"
      ]
     },
     "execution_count": 16,
     "metadata": {},
     "output_type": "execute_result"
    }
   ],
   "source": [
    "import gdown\n",
    "\n",
    "url = 'https://docs.google.com/spreadsheets/d/1FosaeraWyZVC6VBddXMYXmlpchahQPmDcHFHoi2KJVI'\n",
    "output = 'recipes.xlsx'\n",
    "gdown.download(url, output, quiet=False) \n"
   ]
  },
  {
   "cell_type": "code",
   "execution_count": 17,
   "metadata": {},
   "outputs": [
    {
     "ename": "ModuleNotFoundError",
     "evalue": "No module named 'googleapiclient'",
     "output_type": "error",
     "traceback": [
      "\u001b[0;31m---------------------------------------------------------------------------\u001b[0m",
      "\u001b[0;31mModuleNotFoundError\u001b[0m                       Traceback (most recent call last)",
      "\u001b[1;32m/home/carlos/DataScience/week_menu_generator/notebooks/generatin_weekly_recipes.ipynb Cell 9'\u001b[0m in \u001b[0;36m<cell line: 1>\u001b[0;34m()\u001b[0m\n\u001b[0;32m----> <a href='vscode-notebook-cell:/home/carlos/DataScience/week_menu_generator/notebooks/generatin_weekly_recipes.ipynb#ch0000008?line=0'>1</a>\u001b[0m \u001b[39mfrom\u001b[39;00m \u001b[39mgoogleapiclient\u001b[39;00m\u001b[39m.\u001b[39;00m\u001b[39mdiscovery\u001b[39;00m \u001b[39mimport\u001b[39;00m build\n\u001b[1;32m      <a href='vscode-notebook-cell:/home/carlos/DataScience/week_menu_generator/notebooks/generatin_weekly_recipes.ipynb#ch0000008?line=1'>2</a>\u001b[0m \u001b[39mfrom\u001b[39;00m \u001b[39mgoogleapiclient\u001b[39;00m\u001b[39m.\u001b[39;00m\u001b[39mhttp\u001b[39;00m \u001b[39mimport\u001b[39;00m MediaIoBaseDownload\n\u001b[1;32m      <a href='vscode-notebook-cell:/home/carlos/DataScience/week_menu_generator/notebooks/generatin_weekly_recipes.ipynb#ch0000008?line=2'>3</a>\u001b[0m \u001b[39mfrom\u001b[39;00m \u001b[39mgoogle\u001b[39;00m\u001b[39m.\u001b[39;00m\u001b[39moauth2\u001b[39;00m \u001b[39mimport\u001b[39;00m service_account\n",
      "\u001b[0;31mModuleNotFoundError\u001b[0m: No module named 'googleapiclient'"
     ]
    }
   ],
   "source": [
    "from googleapiclient.discovery import build\n",
    "from googleapiclient.http import MediaIoBaseDownload\n",
    "from google.oauth2 import service_account\n",
    "import io\n",
    "\n",
    "credz = {} #put json credentials her from service account or the like\n",
    "# More info: https://cloud.google.com/docs/authentication\n",
    "\n",
    "credentials = service_account.Credentials.from_service_account_info(credz)\n",
    "drive_service = build('drive', 'v3', credentials=credentials)\n",
    "\n",
    "file_id = '1FosaeraWyZVC6VBddXMYXmlpchahQPmDcHFHoi2KJVI'\n",
    "request = drive_service.files().get_media(fileId=file_id)\n",
    "#fh = io.BytesIO() # this can be used to keep in memory\n",
    "fh = io.FileIO('file.tar.gz', 'wb') # this can be used to write to disk\n",
    "downloader = MediaIoBaseDownload(fh, request)\n",
    "done = False\n",
    "while done is False:\n",
    "    status, done = downloader.next_chunk()\n",
    "    print(\"Download %d%%.\" % int(status.progress() * 100))"
   ]
  },
  {
   "cell_type": "code",
   "execution_count": 29,
   "metadata": {},
   "outputs": [
    {
     "ename": "FileNotFoundError",
     "evalue": "[Errno 2] No such file or directory: 'credentials.json'",
     "output_type": "error",
     "traceback": [
      "\u001b[0;31m---------------------------------------------------------------------------\u001b[0m",
      "\u001b[0;31mFileNotFoundError\u001b[0m                         Traceback (most recent call last)",
      "\u001b[1;32m/home/carlos/DataScience/week_menu_generator/notebooks/generatin_weekly_recipes.ipynb Cell 10'\u001b[0m in \u001b[0;36m<cell line: 126>\u001b[0;34m()\u001b[0m\n\u001b[1;32m    <a href='vscode-notebook-cell:/home/carlos/DataScience/week_menu_generator/notebooks/generatin_weekly_recipes.ipynb#ch0000009?line=123'>124</a>\u001b[0m             \u001b[39mraise\u001b[39;00m UploadError(\u001b[39m\"\u001b[39m\u001b[39mCan\u001b[39m\u001b[39m'\u001b[39m\u001b[39mt Upload File.\u001b[39m\u001b[39m\"\u001b[39m)\n\u001b[1;32m    <a href='vscode-notebook-cell:/home/carlos/DataScience/week_menu_generator/notebooks/generatin_weekly_recipes.ipynb#ch0000009?line=125'>126</a>\u001b[0m \u001b[39mif\u001b[39;00m \u001b[39m__name__\u001b[39m \u001b[39m==\u001b[39m \u001b[39m\"\u001b[39m\u001b[39m__main__\u001b[39m\u001b[39m\"\u001b[39m:\n\u001b[0;32m--> <a href='vscode-notebook-cell:/home/carlos/DataScience/week_menu_generator/notebooks/generatin_weekly_recipes.ipynb#ch0000009?line=126'>127</a>\u001b[0m     obj \u001b[39m=\u001b[39m DriveAPI()\n\u001b[1;32m    <a href='vscode-notebook-cell:/home/carlos/DataScience/week_menu_generator/notebooks/generatin_weekly_recipes.ipynb#ch0000009?line=127'>128</a>\u001b[0m     i \u001b[39m=\u001b[39m \u001b[39mint\u001b[39m(\u001b[39minput\u001b[39m(\u001b[39m\"\u001b[39m\u001b[39mEnter your choice: 1 - Download file, 2- Upload File, 3- Exit.\u001b[39m\u001b[39m\\n\u001b[39;00m\u001b[39m\"\u001b[39m))\n\u001b[1;32m    <a href='vscode-notebook-cell:/home/carlos/DataScience/week_menu_generator/notebooks/generatin_weekly_recipes.ipynb#ch0000009?line=129'>130</a>\u001b[0m     \u001b[39mif\u001b[39;00m i \u001b[39m==\u001b[39m \u001b[39m1\u001b[39m:\n",
      "\u001b[1;32m/home/carlos/DataScience/week_menu_generator/notebooks/generatin_weekly_recipes.ipynb Cell 10'\u001b[0m in \u001b[0;36mDriveAPI.__init__\u001b[0;34m(self)\u001b[0m\n\u001b[1;32m     <a href='vscode-notebook-cell:/home/carlos/DataScience/week_menu_generator/notebooks/generatin_weekly_recipes.ipynb#ch0000009?line=47'>48</a>\u001b[0m     \u001b[39mself\u001b[39m\u001b[39m.\u001b[39mcreds\u001b[39m.\u001b[39mrefresh(Request())\n\u001b[1;32m     <a href='vscode-notebook-cell:/home/carlos/DataScience/week_menu_generator/notebooks/generatin_weekly_recipes.ipynb#ch0000009?line=48'>49</a>\u001b[0m \u001b[39melse\u001b[39;00m:\n\u001b[0;32m---> <a href='vscode-notebook-cell:/home/carlos/DataScience/week_menu_generator/notebooks/generatin_weekly_recipes.ipynb#ch0000009?line=49'>50</a>\u001b[0m     flow \u001b[39m=\u001b[39m InstalledAppFlow\u001b[39m.\u001b[39;49mfrom_client_secrets_file(\n\u001b[1;32m     <a href='vscode-notebook-cell:/home/carlos/DataScience/week_menu_generator/notebooks/generatin_weekly_recipes.ipynb#ch0000009?line=50'>51</a>\u001b[0m         \u001b[39m'\u001b[39;49m\u001b[39mcredentials.json\u001b[39;49m\u001b[39m'\u001b[39;49m, SCOPES)\n\u001b[1;32m     <a href='vscode-notebook-cell:/home/carlos/DataScience/week_menu_generator/notebooks/generatin_weekly_recipes.ipynb#ch0000009?line=51'>52</a>\u001b[0m     \u001b[39mself\u001b[39m\u001b[39m.\u001b[39mcreds \u001b[39m=\u001b[39m flow\u001b[39m.\u001b[39mrun_local_server(port\u001b[39m=\u001b[39m\u001b[39m0\u001b[39m)\n\u001b[1;32m     <a href='vscode-notebook-cell:/home/carlos/DataScience/week_menu_generator/notebooks/generatin_weekly_recipes.ipynb#ch0000009?line=53'>54</a>\u001b[0m \u001b[39m# Save the access token in token.pickle\u001b[39;00m\n\u001b[1;32m     <a href='vscode-notebook-cell:/home/carlos/DataScience/week_menu_generator/notebooks/generatin_weekly_recipes.ipynb#ch0000009?line=54'>55</a>\u001b[0m \u001b[39m# file for future usage\u001b[39;00m\n",
      "File \u001b[0;32m~/anaconda3/envs/data_science/lib/python3.9/site-packages/google_auth_oauthlib/flow.py:204\u001b[0m, in \u001b[0;36mFlow.from_client_secrets_file\u001b[0;34m(cls, client_secrets_file, scopes, **kwargs)\u001b[0m\n\u001b[1;32m    189\u001b[0m \u001b[39m@classmethod\u001b[39m\n\u001b[1;32m    190\u001b[0m \u001b[39mdef\u001b[39;00m \u001b[39mfrom_client_secrets_file\u001b[39m(\u001b[39mcls\u001b[39m, client_secrets_file, scopes, \u001b[39m*\u001b[39m\u001b[39m*\u001b[39mkwargs):\n\u001b[1;32m    191\u001b[0m     \u001b[39m\"\"\"Creates a :class:`Flow` instance from a Google client secrets file.\u001b[39;00m\n\u001b[1;32m    192\u001b[0m \n\u001b[1;32m    193\u001b[0m \u001b[39m    Args:\u001b[39;00m\n\u001b[0;32m   (...)\u001b[0m\n\u001b[1;32m    202\u001b[0m \u001b[39m        Flow: The constructed Flow instance.\u001b[39;00m\n\u001b[1;32m    203\u001b[0m \u001b[39m    \"\"\"\u001b[39;00m\n\u001b[0;32m--> 204\u001b[0m     \u001b[39mwith\u001b[39;00m \u001b[39mopen\u001b[39;49m(client_secrets_file, \u001b[39m\"\u001b[39;49m\u001b[39mr\u001b[39;49m\u001b[39m\"\u001b[39;49m) \u001b[39mas\u001b[39;00m json_file:\n\u001b[1;32m    205\u001b[0m         client_config \u001b[39m=\u001b[39m json\u001b[39m.\u001b[39mload(json_file)\n\u001b[1;32m    207\u001b[0m     \u001b[39mreturn\u001b[39;00m \u001b[39mcls\u001b[39m\u001b[39m.\u001b[39mfrom_client_config(client_config, scopes\u001b[39m=\u001b[39mscopes, \u001b[39m*\u001b[39m\u001b[39m*\u001b[39mkwargs)\n",
      "\u001b[0;31mFileNotFoundError\u001b[0m: [Errno 2] No such file or directory: 'credentials.json'"
     ]
    }
   ],
   "source": [
    "# import the required libraries\n",
    "from __future__ import print_function\n",
    "import pickle\n",
    "import os.path\n",
    "import io\n",
    "import shutil\n",
    "import requests\n",
    "from mimetypes import MimeTypes\n",
    "from googleapiclient.discovery import build\n",
    "from google_auth_oauthlib.flow import InstalledAppFlow\n",
    "from google.auth.transport.requests import Request\n",
    "from googleapiclient.http import MediaIoBaseDownload, MediaFileUpload\n",
    "  \n",
    "class DriveAPI:\n",
    "    global SCOPES\n",
    "      \n",
    "    # Define the scopes\n",
    "    SCOPES = ['https://www.googleapis.com/auth/drive']\n",
    "  \n",
    "    def __init__(self):\n",
    "        \n",
    "        # Variable self.creds will\n",
    "        # store the user access token.\n",
    "        # If no valid token found\n",
    "        # we will create one.\n",
    "        self.creds = None\n",
    "  \n",
    "        # The file token.pickle stores the\n",
    "        # user's access and refresh tokens. It is\n",
    "        # created automatically when the authorization\n",
    "        # flow completes for the first time.\n",
    "  \n",
    "        # Check if file token.pickle exists\n",
    "        if os.path.exists('token.pickle'):\n",
    "  \n",
    "            # Read the token from the file and\n",
    "            # store it in the variable self.creds\n",
    "            with open('token.pickle', 'rb') as token:\n",
    "                self.creds = pickle.load(token)\n",
    "  \n",
    "        # If no valid credentials are available,\n",
    "        # request the user to log in.\n",
    "        if not self.creds or not self.creds.valid:\n",
    "  \n",
    "            # If token is expired, it will be refreshed,\n",
    "            # else, we will request a new one.\n",
    "            if self.creds and self.creds.expired and self.creds.refresh_token:\n",
    "                self.creds.refresh(Request())\n",
    "            else:\n",
    "                flow = InstalledAppFlow.from_client_secrets_file(\n",
    "                    'credentials.json', SCOPES)\n",
    "                self.creds = flow.run_local_server(port=0)\n",
    "  \n",
    "            # Save the access token in token.pickle\n",
    "            # file for future usage\n",
    "            with open('token.pickle', 'wb') as token:\n",
    "                pickle.dump(self.creds, token)\n",
    "  \n",
    "        # Connect to the API service\n",
    "        self.service = build('drive', 'v3', credentials=self.creds)\n",
    "  \n",
    "        # request a list of first N files or\n",
    "        # folders with name and id from the API.\n",
    "        results = self.service.files().list(\n",
    "            pageSize=100, fields=\"files(id, name)\").execute()\n",
    "        items = results.get('files', [])\n",
    "  \n",
    "        # print a list of files\n",
    "  \n",
    "        print(\"Here's a list of files: \\n\")\n",
    "        print(*items, sep=\"\\n\", end=\"\\n\\n\")\n",
    "  \n",
    "    def FileDownload(self, file_id, file_name):\n",
    "        request = self.service.files().get_media(fileId=file_id)\n",
    "        fh = io.BytesIO()\n",
    "          \n",
    "        # Initialise a downloader object to download the file\n",
    "        downloader = MediaIoBaseDownload(fh, request, chunksize=204800)\n",
    "        done = False\n",
    "  \n",
    "        try:\n",
    "            # Download the data in chunks\n",
    "            while not done:\n",
    "                status, done = downloader.next_chunk()\n",
    "  \n",
    "            fh.seek(0)\n",
    "              \n",
    "            # Write the received data to the file\n",
    "            with open(file_name, 'wb') as f:\n",
    "                shutil.copyfileobj(fh, f)\n",
    "  \n",
    "            print(\"File Downloaded\")\n",
    "            # Return True if file Downloaded successfully\n",
    "            return True\n",
    "        except:\n",
    "            \n",
    "            # Return False if something went wrong\n",
    "            print(\"Something went wrong.\")\n",
    "            return False\n",
    "  \n",
    "    def FileUpload(self, filepath):\n",
    "        \n",
    "        # Extract the file name out of the file path\n",
    "        name = filepath.split('/')[-1]\n",
    "          \n",
    "        # Find the MimeType of the file\n",
    "        mimetype = MimeTypes().guess_type(name)[0]\n",
    "          \n",
    "        # create file metadata\n",
    "        file_metadata = {'name': name}\n",
    "  \n",
    "        try:\n",
    "            media = MediaFileUpload(filepath, mimetype=mimetype)\n",
    "              \n",
    "            # Create a new file in the Drive storage\n",
    "            file = self.service.files().create(\n",
    "                body=file_metadata, media_body=media, fields='id').execute()\n",
    "              \n",
    "            print(\"File Uploaded.\")\n",
    "          \n",
    "        except:\n",
    "              \n",
    "            # Raise UploadError if file is not uploaded.\n",
    "            raise UploadError(\"Can't Upload File.\")\n",
    "  \n",
    "if __name__ == \"__main__\":\n",
    "    obj = DriveAPI()\n",
    "    i = int(input(\"Enter your choice: 1 - Download file, 2- Upload File, 3- Exit.\\n\"))\n",
    "      \n",
    "    if i == 1:\n",
    "        f_id = input(\"Enter file id: \")\n",
    "        f_name = input(\"Enter file name: \")\n",
    "        obj.FileDownload(f_id, f_name)\n",
    "          \n",
    "    elif i == 2:\n",
    "        f_path = input(\"Enter full file path: \")\n",
    "        obj.FileUpload(f_path)\n",
    "      \n",
    "    else:\n",
    "        exit()"
   ]
  },
  {
   "cell_type": "code",
   "execution_count": 7,
   "metadata": {},
   "outputs": [
    {
     "name": "stdout",
     "output_type": "stream",
     "text": [
      "In 20 Seconds WhatsApp will open and after True Seconds Message will be Delivered!\n"
     ]
    },
    {
     "ename": "ValueError",
     "evalue": "sleep length must be non-negative",
     "output_type": "error",
     "traceback": [
      "\u001b[0;31m---------------------------------------------------------------------------\u001b[0m",
      "\u001b[0;31mValueError\u001b[0m                                Traceback (most recent call last)",
      "\u001b[1;32m/home/carlos/DataScience/week_menu_generator/notebooks/generatin_weekly_recipes.ipynb Cell 12'\u001b[0m in \u001b[0;36m<cell line: 4>\u001b[0;34m()\u001b[0m\n\u001b[1;32m      <a href='vscode-notebook-cell:/home/carlos/DataScience/week_menu_generator/notebooks/generatin_weekly_recipes.ipynb#ch0000011?line=0'>1</a>\u001b[0m \u001b[39mimport\u001b[39;00m \u001b[39mpywhatkit\u001b[39;00m\n\u001b[1;32m      <a href='vscode-notebook-cell:/home/carlos/DataScience/week_menu_generator/notebooks/generatin_weekly_recipes.ipynb#ch0000011?line=2'>3</a>\u001b[0m \u001b[39m# syntax: phone number with country code, message, hour and minutes\u001b[39;00m\n\u001b[0;32m----> <a href='vscode-notebook-cell:/home/carlos/DataScience/week_menu_generator/notebooks/generatin_weekly_recipes.ipynb#ch0000011?line=3'>4</a>\u001b[0m pywhatkit\u001b[39m.\u001b[39;49msendwhatmsg(\u001b[39m'\u001b[39;49m\u001b[39m+46722755944\u001b[39;49m\u001b[39m'\u001b[39;49m, \u001b[39m'\u001b[39;49m\u001b[39mMessage 1\u001b[39;49m\u001b[39m'\u001b[39;49m, \u001b[39m11\u001b[39;49m, \u001b[39m45\u001b[39;49m, \u001b[39mTrue\u001b[39;49;00m, \u001b[39m1\u001b[39;49m)\n",
      "File \u001b[0;32m~/anaconda3/envs/data_science/lib/python3.9/site-packages/pywhatkit/whats.py:73\u001b[0m, in \u001b[0;36msendwhatmsg\u001b[0;34m(phone_no, message, time_hour, time_min, wait_time, tab_close, close_time)\u001b[0m\n\u001b[1;32m     69\u001b[0m \u001b[39mprint\u001b[39m(\n\u001b[1;32m     70\u001b[0m     \u001b[39mf\u001b[39m\u001b[39m\"\u001b[39m\u001b[39mIn \u001b[39m\u001b[39m{\u001b[39;00msleep_time\u001b[39m}\u001b[39;00m\u001b[39m Seconds WhatsApp will open and after \u001b[39m\u001b[39m{\u001b[39;00mwait_time\u001b[39m}\u001b[39;00m\u001b[39m Seconds Message will be Delivered!\u001b[39m\u001b[39m\"\u001b[39m\n\u001b[1;32m     71\u001b[0m )\n\u001b[1;32m     72\u001b[0m time\u001b[39m.\u001b[39msleep(sleep_time)\n\u001b[0;32m---> 73\u001b[0m core\u001b[39m.\u001b[39;49msend_message(message\u001b[39m=\u001b[39;49mmessage, receiver\u001b[39m=\u001b[39;49mphone_no, wait_time\u001b[39m=\u001b[39;49mwait_time)\n\u001b[1;32m     74\u001b[0m log\u001b[39m.\u001b[39mlog_message(_time\u001b[39m=\u001b[39mcurrent_time, receiver\u001b[39m=\u001b[39mphone_no, message\u001b[39m=\u001b[39mmessage)\n\u001b[1;32m     75\u001b[0m \u001b[39mif\u001b[39;00m tab_close:\n",
      "File \u001b[0;32m~/anaconda3/envs/data_science/lib/python3.9/site-packages/pywhatkit/core/core.py:65\u001b[0m, in \u001b[0;36msend_message\u001b[0;34m(message, receiver, wait_time)\u001b[0m\n\u001b[1;32m     63\u001b[0m time\u001b[39m.\u001b[39msleep(\u001b[39m7\u001b[39m)\n\u001b[1;32m     64\u001b[0m click(WIDTH \u001b[39m/\u001b[39m \u001b[39m2\u001b[39m, HEIGHT \u001b[39m/\u001b[39m \u001b[39m2\u001b[39m)\n\u001b[0;32m---> 65\u001b[0m time\u001b[39m.\u001b[39;49msleep(wait_time \u001b[39m-\u001b[39;49m \u001b[39m7\u001b[39;49m)\n\u001b[1;32m     66\u001b[0m \u001b[39mif\u001b[39;00m \u001b[39mnot\u001b[39;00m check_number(number\u001b[39m=\u001b[39mreceiver):\n\u001b[1;32m     67\u001b[0m     \u001b[39mfor\u001b[39;00m char \u001b[39min\u001b[39;00m message:\n",
      "\u001b[0;31mValueError\u001b[0m: sleep length must be non-negative"
     ]
    }
   ],
   "source": [
    "import pywhatkit\n",
    "\n",
    "# syntax: phone number with country code, message, hour and minutes\n",
    "pywhatkit.sendwhatmsg('+46722755944', 'Message 1', 11, 45, True, 2)"
   ]
  },
  {
   "cell_type": "code",
   "execution_count": null,
   "metadata": {},
   "outputs": [],
   "source": []
  }
 ],
 "metadata": {
  "kernelspec": {
   "display_name": "Python 3.9.12 ('data_science')",
   "language": "python",
   "name": "python3"
  },
  "language_info": {
   "codemirror_mode": {
    "name": "ipython",
    "version": 3
   },
   "file_extension": ".py",
   "mimetype": "text/x-python",
   "name": "python",
   "nbconvert_exporter": "python",
   "pygments_lexer": "ipython3",
   "version": "3.9.12"
  },
  "orig_nbformat": 4,
  "vscode": {
   "interpreter": {
    "hash": "df5110a174fb920e8a1a164036d27db828b7b074fe5c7312a2fadadaa5d71696"
   }
  }
 },
 "nbformat": 4,
 "nbformat_minor": 2
}
